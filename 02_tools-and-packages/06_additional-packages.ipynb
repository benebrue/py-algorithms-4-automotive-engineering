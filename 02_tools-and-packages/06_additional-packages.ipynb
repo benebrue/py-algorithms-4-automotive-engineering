{
 "cells": [
  {
   "cell_type": "markdown",
   "metadata": {
    "slideshow": {
     "slide_type": "slide"
    }
   },
   "source": [
    "[Table of contents](../toc.ipynb)\n",
    "\n",
    "\n",
    "# Additional Packages\n",
    "\n",
    "This chapter will be a short collection of additional very useful Python packages, so that you know about them."
   ]
  },
  {
   "cell_type": "markdown",
   "metadata": {
    "slideshow": {
     "slide_type": "slide"
    }
   },
   "source": [
    "## Speed up Python code\n",
    "\n",
    "One problem often discussed under more advanced Python users is that Python can be slow compared with compiled languages like C and C++. However, there are multiple options to speed up Python.\n",
    "\n",
    "<img src=\"https://github.com/cython/cython/raw/master/docs/_static/cythonlogo.png\" alt=\"Cython\" width=\"100\" align=\"right\">\n",
    "<img src=\"http://dask.readthedocs.io/en/latest/_images/dask_horizontal.svg\" alt=\"Dask\" width=\"100\" align=\"right\">\n",
    "<img src=\"https://github.com/numba/numba/raw/master/docs/_static/numba-blue-icon-rgb.svg\" alt=\"Numba\" width=\"100\" align=\"right\">\n",
    "\n",
    "* [Cython](https://cython.org/) is a packages which can compile Python code into C code. Add to this, the cython language can be used to write C code in a pythonic style.\n",
    "* [ScyPy lectures notes: Interfacing C](http://scipy-lectures.org/advanced/interfacing_with_c/interfacing_with_c.html) explain how to use native Python-C-Api, CTypes, Swig, to include C code in your Python project.\n",
    "* [Dask](https://dask.org/) is a parallel computing package. With Dask, you can scale and distribute Python code on clusters for instance.\n",
    "  * There is an extensive tutorial on github [https://github.com/dask/dask-tutorial](https://github.com/dask/dask-tutorial).\n",
    "* [Numba](https://numba.pydata.org/) translates some part of Python code and numpy code into fast machine code."
   ]
  },
  {
   "cell_type": "markdown",
   "metadata": {
    "slideshow": {
     "slide_type": "slide"
    }
   },
   "source": [
    "## Additional machine learning packages\n",
    "\n",
    "Python is very often used for machine learning tasks. Hence, there are numerous top notch machine learning packages available.\n",
    "\n",
    "<img src=\"https://s3.amazonaws.com/keras.io/img/keras-logo-2018-large-1200.png\" alt=\"Keras\" width=\"300\" align=\"right\">\n",
    "<img src=\"https://www.tensorflow.org/images/tf_logo_social.png\" alt=\"TensoFlow\" width=\"300\" align=\"right\">\n",
    "\n",
    "### Deep learning\n",
    "\n",
    "[Keras](https://keras.io/) is a user friendly librarie to build neural networks on top of [Theano](http://www.deeplearning.net/software/theano/) or [TensorFlow](https://www.tensorflow.org/) deeplearning backends."
   ]
  },
  {
   "cell_type": "markdown",
   "metadata": {
    "slideshow": {
     "slide_type": "slide"
    }
   },
   "source": [
    "## Probalistic programming\n",
    "\n",
    "<img src=\"https://github.com/pymc-devs/pymc3/raw/master/docs/logos/PyMC3.png\" alt=\"PyMC3\" width=\"100\" align=\"right\">\n",
    "\n",
    "* Bayesian estimation of model parameters, probalistic machine learning, Gaussian processes, ... All these tasks can be conducted with [PyMC3 package](https://docs.pymc.io/).\n",
    "  * Compared with common frequentist approach, Bayesian estimation places a prior distribution on unknown model paremeters and computes the a posteriory distribution of these parameters given some data.\n",
    "  * Hence, beyond point estimation, a full distribution is result of Bayesian estimation.\n",
    "  * Probalistic inference is introduced in this tutorial [https://docs.pymc.io/notebooks/api_quickstart.html](https://docs.pymc.io/notebooks/api_quickstart.html)."
   ]
  },
  {
   "cell_type": "markdown",
   "metadata": {
    "slideshow": {
     "slide_type": "slide"
    }
   },
   "source": [
    "## Statistical models\n",
    "\n",
    "Finally, a great library for statistical modeling is [statsmodels](https://www.statsmodels.org/stable/index.html).\n",
    "\n",
    "Statsmodels provides, linear regression, robust regression, statistical tests, recursive estimators, time series modelling, and much more.\n",
    "\n",
    "<img src=\"https://www.statsmodels.org/stable/_images/statsmodels-logo-v2-horizontal.svg\" alt=\"Statsmodels\" width=\"350\">"
   ]
  }
 ],
 "metadata": {
  "celltoolbar": "Slideshow",
  "kernelspec": {
   "display_name": "Python 3",
   "language": "python",
   "name": "python3"
  },
  "language_info": {
   "codemirror_mode": {
    "name": "ipython",
    "version": 3
   },
   "file_extension": ".py",
   "mimetype": "text/x-python",
   "name": "python",
   "nbconvert_exporter": "python",
   "pygments_lexer": "ipython3",
   "version": "3.7.6"
  }
 },
 "nbformat": 4,
 "nbformat_minor": 2
}
