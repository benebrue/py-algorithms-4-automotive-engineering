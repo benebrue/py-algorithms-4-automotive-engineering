{
 "cells": [
  {
   "cell_type": "code",
   "execution_count": 1,
   "metadata": {},
   "outputs": [],
   "source": [
    "%matplotlib inline\n",
    "from matplotlib import pyplot as plt\n",
    "\n",
    "import sympy as sp\n",
    "import numpy as np\n",
    "import math"
   ]
  },
  {
   "cell_type": "markdown",
   "metadata": {},
   "source": [
    "### Exact solution using Sympy"
   ]
  },
  {
   "cell_type": "code",
   "execution_count": 2,
   "metadata": {},
   "outputs": [
    {
     "data": {
      "text/latex": [
       "$\\displaystyle k x{\\left(t \\right)} + m \\frac{d^{2}}{d t^{2}} x{\\left(t \\right)} + r \\frac{d}{d t} x{\\left(t \\right)} = K{\\left(t \\right)}$"
      ],
      "text/plain": [
       "Eq(k*x(t) + m*Derivative(x(t), (t, 2)) + r*Derivative(x(t), t), K(t))"
      ]
     },
     "execution_count": 2,
     "metadata": {},
     "output_type": "execute_result"
    }
   ],
   "source": [
    "x = sp.Function(\"x\")\n",
    "K = sp.Function(\"K\")\n",
    "t = sp.symbols(\"t\")\n",
    "m = sp.symbols(\"m\")\n",
    "r = sp.symbols(\"r\")\n",
    "k = sp.symbols(\"k\")\n",
    "\n",
    "dgl = sp.Eq(m*x(t).diff(t).diff(t) + r*x(t).diff(t) + k*x(t), K(t))\n",
    "dgl"
   ]
  },
  {
   "cell_type": "code",
   "execution_count": 3,
   "metadata": {},
   "outputs": [
    {
     "data": {
      "text/latex": [
       "$\\displaystyle x{\\left(t \\right)} = C_{1} e^{\\frac{t \\left(- r - \\sqrt{- 4 k m + r^{2}}\\right)}{2 m}} + C_{2} e^{\\frac{t \\left(- r + \\sqrt{- 4 k m + r^{2}}\\right)}{2 m}} - \\frac{e^{\\frac{t \\left(- r - \\sqrt{- 4 k m + r^{2}}\\right)}{2 m}} \\int K{\\left(t \\right)} e^{\\frac{r t}{2 m}} e^{\\frac{t \\sqrt{- 4 k m + r^{2}}}{2 m}}\\, dt}{\\sqrt{- 4 k m + r^{2}}} + \\frac{e^{\\frac{t \\left(- r + \\sqrt{- 4 k m + r^{2}}\\right)}{2 m}} \\int K{\\left(t \\right)} e^{\\frac{r t}{2 m}} e^{- \\frac{t \\sqrt{- 4 k m + r^{2}}}{2 m}}\\, dt}{\\sqrt{- 4 k m + r^{2}}}$"
      ],
      "text/plain": [
       "Eq(x(t), C1*exp(t*(-r - sqrt(-4*k*m + r**2))/(2*m)) + C2*exp(t*(-r + sqrt(-4*k*m + r**2))/(2*m)) - exp(t*(-r - sqrt(-4*k*m + r**2))/(2*m))*Integral(K(t)*exp(r*t/(2*m))*exp(t*sqrt(-4*k*m + r**2)/(2*m)), t)/sqrt(-4*k*m + r**2) + exp(t*(-r + sqrt(-4*k*m + r**2))/(2*m))*Integral(K(t)*exp(r*t/(2*m))*exp(-t*sqrt(-4*k*m + r**2)/(2*m)), t)/sqrt(-4*k*m + r**2))"
      ]
     },
     "execution_count": 3,
     "metadata": {},
     "output_type": "execute_result"
    }
   ],
   "source": [
    "sp.dsolve(dgl, x(t))"
   ]
  },
  {
   "cell_type": "markdown",
   "metadata": {},
   "source": [
    "### Runge-Kutta solution using Scipy"
   ]
  },
  {
   "cell_type": "code",
   "execution_count": 21,
   "metadata": {},
   "outputs": [],
   "source": [
    "def oscillator(t, x, K_0, omega, m, r, k):\n",
    "\n",
    "    x_1, x_2 = x # x: vector of x_1 and x_2\n",
    "    \n",
    "    dxdt = [x_2, 1/m*(K_0*math.sin(omega*t) - r*x_2 - k*x_1)]\n",
    "    return dxdt"
   ]
  },
  {
   "cell_type": "code",
   "execution_count": 22,
   "metadata": {},
   "outputs": [],
   "source": [
    "from scipy.integrate import solve_ivp\n",
    "init = [0, 0]\n",
    "time = np.arange(0, 3, 0.1)\n",
    "time_span = [0, 3]\n",
    "\n",
    "K_0 = 1\n",
    "omega = 0.2\n",
    "m = 0.5\n",
    "r = 0.1\n",
    "k = 0.2\n",
    "\n",
    "dgl_RK45 = solve_ivp(oscillator, time_span, init, method=\"RK45\", t_eval=time, args = (K_0, omega, m, r, k))"
   ]
  },
  {
   "cell_type": "code",
   "execution_count": 27,
   "metadata": {},
   "outputs": [
    {
     "data": {
      "image/png": "[encoded data removed]",
      "text/plain": [
       "<Figure size 432x288 with 1 Axes>"
      ]
     },
     "metadata": {
      "needs_background": "light"
     },
     "output_type": "display_data"
    }
   ],
   "source": [
    "plt.figure()\n",
    "plt.plot(time, dgl_RK45.y[0, :], dgl_RK45.y[1, :])\n",
    "plt.legend([\"$x_1$ Runge-Kutta\", \"$x_2$ Runge-Kutta\"])\n",
    "plt.xlabel(\"Time\")\n",
    "plt.ylabel(\"$y$\")\n",
    "plt.show()"
   ]
  },
  {
   "cell_type": "code",
   "execution_count": 29,
   "metadata": {},
   "outputs": [
    {
     "data": {
      "text/plain": [
       "  message: 'The solver successfully reached the end of the integration interval.'\n",
       "     nfev: 50\n",
       "     njev: 0\n",
       "      nlu: 0\n",
       "      sol: None\n",
       "   status: 0\n",
       "  success: True\n",
       "        t: array([0. , 0.1, 0.2, 0.3, 0.4, 0.5, 0.6, 0.7, 0.8, 0.9, 1. , 1.1, 1.2,\n",
       "       1.3, 1.4, 1.5, 1.6, 1.7, 1.8, 1.9, 2. , 2.1, 2.2, 2.3, 2.4, 2.5,\n",
       "       2.6, 2.7, 2.8, 2.9])\n",
       " t_events: None\n",
       "        y: array([[0.00000000e+00, 6.63200869e-05, 5.27309831e-04, 1.76946532e-03,\n",
       "        4.16797423e-03, 8.08480963e-03, 1.38672118e-02, 2.18506552e-02,\n",
       "        3.23538823e-02, 4.56764372e-02, 6.20986655e-02, 8.18806121e-02,\n",
       "        1.05259336e-01, 1.32462317e-01, 1.63694785e-01, 1.99137417e-01,\n",
       "        2.38946337e-01, 2.83253116e-01, 3.32164771e-01, 3.85763766e-01,\n",
       "        4.44108756e-01, 5.07242177e-01, 5.75185763e-01, 6.47938342e-01,\n",
       "        7.25476244e-01, 8.07753300e-01, 8.94700842e-01, 9.86227707e-01,\n",
       "        1.08222023e+00, 1.18254226e+00],\n",
       "       [0.00000000e+00, 1.98600542e-03, 7.88292551e-03, 1.75874367e-02,\n",
       "        3.09817736e-02, 4.79344570e-02, 6.83013237e-02, 9.19245793e-02,\n",
       "        1.18635561e-01, 1.48256051e-01, 1.80598281e-01, 2.15465907e-01,\n",
       "        2.52657766e-01, 2.91958231e-01, 3.33147574e-01, 3.76003879e-01,\n",
       "        4.20303040e-01, 4.65818770e-01, 5.12322591e-01, 5.59583840e-01,\n",
       "        6.07371908e-01, 6.55464606e-01, 7.03627220e-01, 7.51628873e-01,\n",
       "        7.99245629e-01, 8.46260496e-01, 8.92463425e-01, 9.37651308e-01,\n",
       "        9.81627978e-01, 1.02420421e+00]])\n",
       " y_events: None"
      ]
     },
     "execution_count": 29,
     "metadata": {},
     "output_type": "execute_result"
    }
   ],
   "source": [
    "dgl_RK45"
   ]
  }
 ],
 "metadata": {
  "kernelspec": {
   "display_name": "Python 3",
   "language": "python",
   "name": "python3"
  },
  "language_info": {
   "codemirror_mode": {
    "name": "ipython",
    "version": 3
   },
   "file_extension": ".py",
   "mimetype": "text/x-python",
   "name": "python",
   "nbconvert_exporter": "python",
   "pygments_lexer": "ipython3",
   "version": "3.7.7"
  }
 },
 "nbformat": 4,
 "nbformat_minor": 4
}
