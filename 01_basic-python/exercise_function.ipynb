{
 "cells": [
  {
   "cell_type": "code",
   "execution_count": 3,
   "metadata": {},
   "outputs": [
    {
     "name": "stdout",
     "output_type": "stream",
     "text": [
      "The result is 3.0\n"
     ]
    }
   ],
   "source": [
    "def dist(p1, p2):\n",
    "    s = 0\n",
    "    for (x, y) in zip(p1, p2):\n",
    "        s += (x-y)**2\n",
    "    result = s ** 0.5\n",
    "    return result\n",
    "\n",
    "p = [2, 3, -1]\n",
    "q = [4, 1, -2]\n",
    "print(\"The result is\", dist(p, q))"
   ]
  },
  {
   "cell_type": "code",
   "execution_count": null,
   "metadata": {},
   "outputs": [],
   "source": []
  }
 ],
 "metadata": {
  "kernelspec": {
   "display_name": "Python 3",
   "language": "python",
   "name": "python3"
  },
  "language_info": {
   "codemirror_mode": {
    "name": "ipython",
    "version": 3
   },
   "file_extension": ".py",
   "mimetype": "text/x-python",
   "name": "python",
   "nbconvert_exporter": "python",
   "pygments_lexer": "ipython3",
   "version": "3.7.7"
  }
 },
 "nbformat": 4,
 "nbformat_minor": 4
}
