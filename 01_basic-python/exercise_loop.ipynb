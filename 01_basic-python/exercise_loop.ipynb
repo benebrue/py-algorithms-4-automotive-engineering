{
 "cells": [
  {
   "cell_type": "code",
   "execution_count": 2,
   "metadata": {},
   "outputs": [],
   "source": [
    "d = {\"force\": [0, 10, 15, 30, 45], \"distance\": [2.5, 3.5, 6.0, -3.0, 8.1]}"
   ]
  },
  {
   "cell_type": "code",
   "execution_count": 6,
   "metadata": {},
   "outputs": [
    {
     "name": "stdout",
     "output_type": "stream",
     "text": [
      "Summe der Produkte = 399.5\n"
     ]
    }
   ],
   "source": [
    "sum = 0\n",
    "for (force, distance) in zip(d[\"force\"], d[\"distance\"]):\n",
    "    sum += force * distance\n",
    "print(\"Summe der Produkte = \" + str(sum))"
   ]
  },
  {
   "cell_type": "code",
   "execution_count": null,
   "metadata": {},
   "outputs": [],
   "source": []
  }
 ],
 "metadata": {
  "kernelspec": {
   "display_name": "Python 3",
   "language": "python",
   "name": "python3"
  },
  "language_info": {
   "codemirror_mode": {
    "name": "ipython",
    "version": 3
   },
   "file_extension": ".py",
   "mimetype": "text/x-python",
   "name": "python",
   "nbconvert_exporter": "python",
   "pygments_lexer": "ipython3",
   "version": "3.7.7"
  }
 },
 "nbformat": 4,
 "nbformat_minor": 4
}
